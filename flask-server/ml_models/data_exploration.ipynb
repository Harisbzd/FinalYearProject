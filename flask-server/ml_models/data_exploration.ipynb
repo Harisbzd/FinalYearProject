{
  "cells": [
    {
      "cell_type": "markdown",
      "metadata": {},
      "source": [
        "# Diabetes Dataset - Basic Data Preprocessing & Exploration\n",
        "\n",
        "This notebook provides basic data preprocessing and exploration for the diabetes prediction dataset.\n",
        "\n",
        "## Overview\n",
        "- **Dataset**: Diabetes Binary 50/50 Split Health Indicators BRFSS2015\n",
        "- **Purpose**: Basic data cleaning, visualization, and analysis\n",
        "- **Note**: This is separate from feature engineering (which is in `feature_engineering.py`)\n"
      ]
    },
    {
      "cell_type": "code",
      "execution_count": null,
      "metadata": {},
      "outputs": [],
      "source": [
        "# Import required libraries\n",
        "import pandas as pd\n",
        "import numpy as np\n",
        "import matplotlib.pyplot as plt\n",
        "import seaborn as sns\n",
        "from scipy import stats\n",
        "import warnings\n",
        "warnings.filterwarnings('ignore')\n",
        "\n",
        "# Set plotting style\n",
        "plt.style.use('default')\n",
        "sns.set_palette(\"husl\")\n",
        "\n",
        "print(\"Libraries imported successfully!\")\n"
      ]
    }
  ],
  "metadata": {
    "language_info": {
      "name": "python"
    }
  },
  "nbformat": 4,
  "nbformat_minor": 2
}
